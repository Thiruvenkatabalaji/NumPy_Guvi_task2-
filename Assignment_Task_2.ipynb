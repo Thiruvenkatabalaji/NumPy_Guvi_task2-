{
  "nbformat": 4,
  "nbformat_minor": 0,
  "metadata": {
    "colab": {
      "provenance": []
    },
    "kernelspec": {
      "name": "python3",
      "display_name": "Python 3"
    },
    "language_info": {
      "name": "python"
    }
  },
  "cells": [
    {
      "cell_type": "code",
      "execution_count": null,
      "metadata": {
        "colab": {
          "base_uri": "https://localhost:8080/"
        },
        "id": "zt-nMUoaKTaV",
        "outputId": "ffa92327-22d3-427a-9e93-0fb0de3ef682"
      },
      "outputs": [
        {
          "output_type": "stream",
          "name": "stdout",
          "text": [
            "Approach 1: The p-value approach to hypothesis testing in the decision rule\n",
            "chisquare-score is: 24.367421717305202  and p value is: 0.0004469083391495099\n",
            "Null Hypothesis is rejected.\n",
            "\n",
            "--------------------------------------------------------------------------------------\n",
            "Approach 2: The critical value approach to hypothesis testing in the decision rule\n",
            "chisquare-score is: 24.367421717305202  and critical value is: 12.591587243743977\n",
            "Null Hypothesis is rejected.\n",
            "\n",
            "--------------------------------------------------------------------------------------\n",
            "\n",
            " We have enough evidence that there is an association btw the age and their movie genre\n"
          ]
        }
      ],
      "source": [
        "import pandas as pd\n",
        "import scipy.stats as stats\n",
        "\n",
        "# create sample data according to survey\n",
        "data = [['18-29', 'Action/Adventure'] for i in range(141)] + \\\n",
        "        [['18-29', 'Romance'] for i in range(68)] + \\\n",
        "        [['18-29', 'Biography'] for i in range(4)] + \\\n",
        "        [['30-44', 'Action/Adventure'] for i in range(179)] + \\\n",
        "        [['30-44', 'Romance'] for i in range(159)] + \\\n",
        "        [['30-44', 'Biography'] for i in range(7)] + \\\n",
        "        [['45-65', 'Action/Adventure'] for i in range(220)] + \\\n",
        "        [['45-65', 'Romance'] for i in range(216)] + \\\n",
        "        [['45-65', 'Biography'] for i in range(4)] + \\\n",
        "        [['65 & older', 'Action/Adventure'] for i in range(86)] + \\\n",
        "        [['65 & older', 'Romance'] for i in range(101)] + \\\n",
        "        [['65 & older', 'Biography'] for i in range(4)]\n",
        "df = pd.DataFrame(data, columns = ['Age_group', 'Movie_genre']) \n",
        "\n",
        "# create contingency table\n",
        "data_crosstab = pd.crosstab(df['Age_group'],\n",
        "                            df['Movie_genre'],\n",
        "                           margins=True, margins_name=\"Total\")\n",
        "\n",
        "# significance level\n",
        "alpha = 0.05\n",
        "\n",
        "# Calcualtion of Chisquare\n",
        "chi_square = 0\n",
        "rows = df['Age_group'].unique()\n",
        "columns = df['Movie_genre'].unique()\n",
        "for i in columns:\n",
        "    for j in rows:\n",
        "        O = data_crosstab[i][j]\n",
        "        E = data_crosstab[i]['Total'] * data_crosstab['Total'][j] / data_crosstab['Total']['Total']\n",
        "        chi_square += (O-E)**2/E\n",
        "\n",
        "# The p-value approach\n",
        "print(\"Approach 1: The p-value approach to hypothesis testing in the decision rule\")\n",
        "p_value = 1 - stats.chi2.cdf(chi_square, (len(rows)-1)*(len(columns)-1))\n",
        "conclusion = \"Failed to reject the null hypothesis.\"\n",
        "if p_value <= alpha:\n",
        "    conclusion = \"Null Hypothesis is rejected.\"\n",
        "        \n",
        "print(\"chisquare-score is:\", chi_square, \" and p value is:\", p_value)\n",
        "print(conclusion)\n",
        "    \n",
        "# The critical value approach\n",
        "print(\"\\n--------------------------------------------------------------------------------------\")\n",
        "print(\"Approach 2: The critical value approach to hypothesis testing in the decision rule\")\n",
        "critical_value = stats.chi2.ppf(1-alpha, (len(rows)-1)*(len(columns)-1))\n",
        "conclusion = \"Failed to reject the null hypothesis.\"\n",
        "if chi_square > critical_value:\n",
        "    conclusion = \"Null Hypothesis is rejected.\"\n",
        "        \n",
        "print(\"chisquare-score is:\", chi_square, \" and critical value is:\", critical_value)\n",
        "print(conclusion)\n",
        "\n",
        "print(\"\\n--------------------------------------------------------------------------------------\")\n",
        "\n",
        "print(\"\\n We have enough evidence that there is an association btw the age and their movie genre\")"
      ]
    },
    {
      "cell_type": "code",
      "source": [],
      "metadata": {
        "id": "4zBXvGY2x3T9"
      },
      "execution_count": null,
      "outputs": []
    }
  ]
}